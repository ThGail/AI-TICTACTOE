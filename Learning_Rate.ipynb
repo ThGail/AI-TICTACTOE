{
 "cells": [
  {
   "cell_type": "markdown",
   "metadata": {},
   "source": [
    "# The Best Learning Rate"
   ]
  },
  {
   "cell_type": "markdown",
   "metadata": {},
   "source": [
    "In this notebook, we are interested by the best learning rate (named **epsilon**). The following program will reach it by testing different epsilon values, and by getting their winning rate. First, let import the **AI_Tictactoe.py** program :"
   ]
  },
  {
   "cell_type": "code",
   "execution_count": 178,
   "metadata": {},
   "outputs": [
    {
     "name": "stdout",
     "output_type": "stream",
     "text": [
      "Populating the interactive namespace from numpy and matplotlib\n"
     ]
    }
   ],
   "source": [
    "%pylab inline"
   ]
  },
  {
   "cell_type": "code",
   "execution_count": 155,
   "metadata": {},
   "outputs": [],
   "source": [
    "from AI_Tictactoe import *"
   ]
  },
  {
   "cell_type": "markdown",
   "metadata": {},
   "source": [
    "To find the best learning rate, the program will train different AI with different learning rates. The different learning rates are contained in **listEpsilon**, and the learning process is in the **training()** function. "
   ]
  },
  {
   "cell_type": "code",
   "execution_count": 138,
   "metadata": {},
   "outputs": [],
   "source": [
    "def training(nbTraining, epsilon):\n",
    "        pp1 = Player('X', isIntelligent = False, learningRate = epsilon)     \n",
    "        pp2 = Player('O', isIntelligent = False, learningRate = epsilon)\n",
    "        \n",
    "        pp1.experience = {}\n",
    "        pp2.experience = {} #Force the experience to be null\n",
    "        \n",
    "        for i in range(nbTraining) :\n",
    "            PlayTicTacToe(pp1,pp2, aiTraining = True)\n",
    "        \n",
    "        pp1.experience.update(pp2.experience)\n",
    "        aiExperience = copy.deepcopy(pp1.experience)\n",
    "        \n",
    "        #pp1.Display_Experience()\n",
    "        return aiExperience\n",
    "        "
   ]
  },
  {
   "cell_type": "code",
   "execution_count": 172,
   "metadata": {},
   "outputs": [
    {
     "name": "stdout",
     "output_type": "stream",
     "text": [
      "[0.   0.05 0.1  0.15 0.2  0.25 0.3  0.35 0.4  0.45 0.5  0.55 0.6  0.65\n",
      " 0.7  0.75 0.8  0.85 0.9  0.95 1.  ]\n"
     ]
    }
   ],
   "source": [
    "listEpsilon = np.linspace(0,1,21)\n",
    "print(listEpsilon)"
   ]
  },
  {
   "cell_type": "markdown",
   "metadata": {},
   "source": [
    "Then, we train different AI with the different learning rates. (**Warning** : this process can be long, in the current parametrization, the function PlayTicTacToe() is called **231 000** (= (10 000 + 1 000) * 21) "
   ]
  },
  {
   "cell_type": "code",
   "execution_count": 162,
   "metadata": {},
   "outputs": [
    {
     "name": "stdout",
     "output_type": "stream",
     "text": [
      "For epsilon = 0.0. The winning rate is :  62.4 %\n",
      "For epsilon = 0.05. The winning rate is :  68.1 %\n",
      "For epsilon = 0.1. The winning rate is :  72.9 %\n",
      "For epsilon = 0.15000000000000002. The winning rate is :  75.4 %\n",
      "For epsilon = 0.2. The winning rate is :  75.3 %\n",
      "For epsilon = 0.25. The winning rate is :  73.1 %\n",
      "For epsilon = 0.30000000000000004. The winning rate is :  74.4 %\n",
      "For epsilon = 0.35000000000000003. The winning rate is :  75.3 %\n",
      "For epsilon = 0.4. The winning rate is :  81.1 %\n",
      "For epsilon = 0.45. The winning rate is :  77.9 %\n",
      "For epsilon = 0.5. The winning rate is :  76.9 %\n",
      "For epsilon = 0.55. The winning rate is :  75.0 %\n",
      "For epsilon = 0.6000000000000001. The winning rate is :  76.2 %\n",
      "For epsilon = 0.65. The winning rate is :  74.7 %\n",
      "For epsilon = 0.7000000000000001. The winning rate is :  74.3 %\n",
      "For epsilon = 0.75. The winning rate is :  75.6 %\n",
      "For epsilon = 0.8. The winning rate is :  74.9 %\n",
      "For epsilon = 0.8500000000000001. The winning rate is :  76.2 %\n",
      "For epsilon = 0.9. The winning rate is :  74.2 %\n",
      "For epsilon = 0.9500000000000001. The winning rate is :  75.5 %\n",
      "For epsilon = 1.0. The winning rate is :  69.5 %\n"
     ]
    }
   ],
   "source": [
    "listWinningRate = []\n",
    "experience = {}\n",
    "\n",
    "\n",
    "for epsilon in listEpsilon :\n",
    "    print('For epsilon = {}. '.format(epsilon), end='')\n",
    "    experience = training(10000, epsilon)\n",
    "    listWinningRate.append(WinningRate(experience))\n",
    "        \n",
    "    experience = {}"
   ]
  },
  {
   "cell_type": "markdown",
   "metadata": {},
   "source": [
    "Finaly, we are looking for the best learning rate, by using **argmax()** function."
   ]
  },
  {
   "cell_type": "code",
   "execution_count": 181,
   "metadata": {},
   "outputs": [
    {
     "name": "stdout",
     "output_type": "stream",
     "text": [
      "The argmax is : 0.4\n",
      "It is the best learning rate we had\n"
     ]
    },
    {
     "data": {
      "image/png": "[encoded data removed]",
      "text/plain": [
       "<Figure size 432x288 with 1 Axes>"
      ]
     },
     "metadata": {
      "needs_background": "light"
     },
     "output_type": "display_data"
    }
   ],
   "source": [
    "plot(listEpsilon,listWinningRate)\n",
    "bestLearningRate = listEpsilon[argmax(listWinningRate)]\n",
    "\n",
    "print('The argmax is :', bestLearningRate)\n",
    "print('It is the best learning rate we had for 10 000 traning games')"
   ]
  },
  {
   "cell_type": "code",
   "execution_count": null,
   "metadata": {},
   "outputs": [],
   "source": []
  }
 ],
 "metadata": {
  "kernelspec": {
   "display_name": "Python 3",
   "language": "python",
   "name": "python3"
  },
  "language_info": {
   "codemirror_mode": {
    "name": "ipython",
    "version": 3
   },
   "file_extension": ".py",
   "mimetype": "text/x-python",
   "name": "python",
   "nbconvert_exporter": "python",
   "pygments_lexer": "ipython3",
   "version": "3.7.6"
  }
 },
 "nbformat": 4,
 "nbformat_minor": 4
}
